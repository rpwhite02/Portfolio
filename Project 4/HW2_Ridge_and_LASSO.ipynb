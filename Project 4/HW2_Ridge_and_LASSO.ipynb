{
 "cells": [
  {
   "cell_type": "markdown",
   "metadata": {
    "id": "MxRj1xGMYI_W"
   },
   "source": [
    "# Assignment 2 - Ridge and LASSO Regression\n",
    "\n",
    "In this assignment we'll look at the affect of using regularization on linear regression models that we train. You will write code to train models that use different regularizers and different penalties and to analyze how this affects the model.\n",
    "\n",
    "\n",
    "Fill in the cells provided marked `TODO` with code to answer the questions. Answers should do the computation stated rather than writing in hard-coded values. So for example, if a problem asks you to compute the average age of people in a dataset, you should be writing Python code in this notebook to do the computation instead of plugging it into some calculator and saving the hard-coded answer in the variable. In other words, we should be able to run your code on a smaller/larger dataset and get correct answers for those datasets with your code.\n",
    "\n",
    "Note, you are not allowed to share any portions of this notebook outside of this class.\n",
    "\n",
    "> Copyright ©2021 Emily Fox and Hunter Schafer.  All rights reserved.  Permission is hereby granted to students registered for University of Washington CSE/STAT 416 for use solely during Spring Quarter 2021 for purposes of the course.  No other use, copying, distribution, or modification is permitted without prior written consent. Copyrights for third-party components of this work must be honored.  Instructors interested in reusing these course materials should contact the author.\n",
    "\n",
    "---"
   ]
  },
  {
   "cell_type": "markdown",
   "metadata": {
    "id": "BrBfwNc1YI_X"
   },
   "source": [
    "## Important Gradescope Submission Guidelines:\n",
    "-\tDo not rename the notebook. Just fill in your code and submit this notebook.\n",
    "-   Remove the google.colab import lines if you used Colab. Do not modify the path from the default one for the dataset.\n",
    "-   Comment out all the print() lines before submission. Program generated print outputs will affect autograder and you will not have autograder scores. But you can run the print() lines while doing this assignment.\n"
   ]
  },
  {
   "cell_type": "code",
   "execution_count": null,
   "metadata": {
    "id": "wjngBq-tYI_Y"
   },
   "outputs": [],
   "source": [
    "# use this to hide ConvergenceWarning\n",
    "# this is dangerous though; only hide warnings at the end to make a nicer-looking notebook\n",
    "\n",
    "# import warnings \n",
    "# warnings.filterwarnings('ignore')"
   ]
  },
  {
   "cell_type": "code",
   "execution_count": 1,
   "metadata": {
    "id": "uDmyKAOlYI_Y"
   },
   "outputs": [],
   "source": [
    "# Conventionally people rename these common imports for brevity\n",
    "import pandas as pd\n",
    "import numpy as np\n",
    "import matplotlib.pyplot as plt\n",
    "\n",
    "# Magic command to make the plots appear in-line (it's actually called a \"magic command\")\n",
    "%matplotlib inline\n",
    "\n",
    "# Set seed for the whole program\n",
    "np.random.seed(416)"
   ]
  },
  {
   "cell_type": "markdown",
   "metadata": {
    "id": "VVmcZGA4YI_Z"
   },
   "source": [
    "For this assignment, we will only be using a very small subset of the data to do our analysis. This is not something you would usually do in practice, but is something we do for this assignment to simplify this complexity of this dataset. The data is pretty noisy and to get meaningful results to demonstrate the theoretical behavior, you would need to use a much more complicated set of features that would be a bit more tedious to work with."
   ]
  },
  {
   "cell_type": "markdown",
   "metadata": {
    "id": "92ItDIpqYI_Z"
   },
   "source": [
    "*If you are using Colab, you need extra lines to read in data here.*\n",
    "\n",
    "**But please remove or comment out the extra lines for Google drive if you use Colab, and the next chunk should be left unchanged. Autograder will fail otherwise.**"
   ]
  },
  {
   "cell_type": "code",
   "execution_count": 2,
   "metadata": {
    "id": "3GqHr4GnYI_Z"
   },
   "outputs": [
    {
     "data": {
      "text/html": [
       "<div>\n",
       "<style scoped>\n",
       "    .dataframe tbody tr th:only-of-type {\n",
       "        vertical-align: middle;\n",
       "    }\n",
       "\n",
       "    .dataframe tbody tr th {\n",
       "        vertical-align: top;\n",
       "    }\n",
       "\n",
       "    .dataframe thead th {\n",
       "        text-align: right;\n",
       "    }\n",
       "</style>\n",
       "<table border=\"1\" class=\"dataframe\">\n",
       "  <thead>\n",
       "    <tr style=\"text-align: right;\">\n",
       "      <th></th>\n",
       "      <th>id</th>\n",
       "      <th>date</th>\n",
       "      <th>price</th>\n",
       "      <th>bedrooms</th>\n",
       "      <th>bathrooms</th>\n",
       "      <th>sqft_living</th>\n",
       "      <th>sqft_lot</th>\n",
       "      <th>floors</th>\n",
       "      <th>waterfront</th>\n",
       "      <th>view</th>\n",
       "      <th>...</th>\n",
       "      <th>grade</th>\n",
       "      <th>sqft_above</th>\n",
       "      <th>sqft_basement</th>\n",
       "      <th>yr_built</th>\n",
       "      <th>yr_renovated</th>\n",
       "      <th>zipcode</th>\n",
       "      <th>lat</th>\n",
       "      <th>long</th>\n",
       "      <th>sqft_living15</th>\n",
       "      <th>sqft_lot15</th>\n",
       "    </tr>\n",
       "  </thead>\n",
       "  <tbody>\n",
       "    <tr>\n",
       "      <th>3798</th>\n",
       "      <td>2426059076</td>\n",
       "      <td>20150203T000000</td>\n",
       "      <td>680000</td>\n",
       "      <td>4</td>\n",
       "      <td>2.50</td>\n",
       "      <td>2700</td>\n",
       "      <td>37431</td>\n",
       "      <td>1.0</td>\n",
       "      <td>0</td>\n",
       "      <td>0</td>\n",
       "      <td>...</td>\n",
       "      <td>8</td>\n",
       "      <td>1600</td>\n",
       "      <td>1100</td>\n",
       "      <td>1978</td>\n",
       "      <td>0</td>\n",
       "      <td>98072</td>\n",
       "      <td>47.7258</td>\n",
       "      <td>-122.117</td>\n",
       "      <td>2290</td>\n",
       "      <td>37431</td>\n",
       "    </tr>\n",
       "    <tr>\n",
       "      <th>20742</th>\n",
       "      <td>2902200241</td>\n",
       "      <td>20140623T000000</td>\n",
       "      <td>562500</td>\n",
       "      <td>3</td>\n",
       "      <td>2.25</td>\n",
       "      <td>1300</td>\n",
       "      <td>907</td>\n",
       "      <td>2.0</td>\n",
       "      <td>0</td>\n",
       "      <td>0</td>\n",
       "      <td>...</td>\n",
       "      <td>8</td>\n",
       "      <td>1000</td>\n",
       "      <td>300</td>\n",
       "      <td>2006</td>\n",
       "      <td>0</td>\n",
       "      <td>98102</td>\n",
       "      <td>47.6371</td>\n",
       "      <td>-122.327</td>\n",
       "      <td>1300</td>\n",
       "      <td>1169</td>\n",
       "    </tr>\n",
       "    <tr>\n",
       "      <th>2325</th>\n",
       "      <td>3634100030</td>\n",
       "      <td>20150109T000000</td>\n",
       "      <td>270000</td>\n",
       "      <td>4</td>\n",
       "      <td>2.00</td>\n",
       "      <td>1830</td>\n",
       "      <td>5220</td>\n",
       "      <td>1.5</td>\n",
       "      <td>0</td>\n",
       "      <td>0</td>\n",
       "      <td>...</td>\n",
       "      <td>7</td>\n",
       "      <td>1830</td>\n",
       "      <td>0</td>\n",
       "      <td>1951</td>\n",
       "      <td>0</td>\n",
       "      <td>98118</td>\n",
       "      <td>47.5331</td>\n",
       "      <td>-122.278</td>\n",
       "      <td>1760</td>\n",
       "      <td>5757</td>\n",
       "    </tr>\n",
       "    <tr>\n",
       "      <th>3062</th>\n",
       "      <td>3163600015</td>\n",
       "      <td>20150128T000000</td>\n",
       "      <td>156000</td>\n",
       "      <td>2</td>\n",
       "      <td>1.00</td>\n",
       "      <td>600</td>\n",
       "      <td>4000</td>\n",
       "      <td>1.0</td>\n",
       "      <td>0</td>\n",
       "      <td>0</td>\n",
       "      <td>...</td>\n",
       "      <td>5</td>\n",
       "      <td>600</td>\n",
       "      <td>0</td>\n",
       "      <td>1933</td>\n",
       "      <td>0</td>\n",
       "      <td>98146</td>\n",
       "      <td>47.5065</td>\n",
       "      <td>-122.339</td>\n",
       "      <td>1290</td>\n",
       "      <td>6973</td>\n",
       "    </tr>\n",
       "    <tr>\n",
       "      <th>4341</th>\n",
       "      <td>9407000600</td>\n",
       "      <td>20140916T000000</td>\n",
       "      <td>242000</td>\n",
       "      <td>3</td>\n",
       "      <td>1.00</td>\n",
       "      <td>970</td>\n",
       "      <td>9600</td>\n",
       "      <td>1.0</td>\n",
       "      <td>0</td>\n",
       "      <td>0</td>\n",
       "      <td>...</td>\n",
       "      <td>7</td>\n",
       "      <td>970</td>\n",
       "      <td>0</td>\n",
       "      <td>1972</td>\n",
       "      <td>0</td>\n",
       "      <td>98045</td>\n",
       "      <td>47.4451</td>\n",
       "      <td>-121.768</td>\n",
       "      <td>1110</td>\n",
       "      <td>9600</td>\n",
       "    </tr>\n",
       "  </tbody>\n",
       "</table>\n",
       "<p>5 rows × 21 columns</p>\n",
       "</div>"
      ],
      "text/plain": [
       "               id             date   price  bedrooms  bathrooms  sqft_living  \\\n",
       "3798   2426059076  20150203T000000  680000         4       2.50         2700   \n",
       "20742  2902200241  20140623T000000  562500         3       2.25         1300   \n",
       "2325   3634100030  20150109T000000  270000         4       2.00         1830   \n",
       "3062   3163600015  20150128T000000  156000         2       1.00          600   \n",
       "4341   9407000600  20140916T000000  242000         3       1.00          970   \n",
       "\n",
       "       sqft_lot  floors  waterfront  view  ...  grade  sqft_above  \\\n",
       "3798      37431     1.0           0     0  ...      8        1600   \n",
       "20742       907     2.0           0     0  ...      8        1000   \n",
       "2325       5220     1.5           0     0  ...      7        1830   \n",
       "3062       4000     1.0           0     0  ...      5         600   \n",
       "4341       9600     1.0           0     0  ...      7         970   \n",
       "\n",
       "       sqft_basement  yr_built  yr_renovated  zipcode      lat     long  \\\n",
       "3798            1100      1978             0    98072  47.7258 -122.117   \n",
       "20742            300      2006             0    98102  47.6371 -122.327   \n",
       "2325               0      1951             0    98118  47.5331 -122.278   \n",
       "3062               0      1933             0    98146  47.5065 -122.339   \n",
       "4341               0      1972             0    98045  47.4451 -121.768   \n",
       "\n",
       "       sqft_living15  sqft_lot15  \n",
       "3798            2290       37431  \n",
       "20742           1300        1169  \n",
       "2325            1760        5757  \n",
       "3062            1290        6973  \n",
       "4341            1110        9600  \n",
       "\n",
       "[5 rows x 21 columns]"
      ]
     },
     "execution_count": 2,
     "metadata": {},
     "output_type": "execute_result"
    }
   ],
   "source": [
    "sales = pd.read_csv('home_data.csv') \n",
    "\n",
    "# Selects 1% of the data\n",
    "sales = sales.sample(frac=0.01) \n",
    "\n",
    "# print(f'Number of points: {len(sales)}')\n",
    "sales.head()"
   ]
  },
  {
   "cell_type": "markdown",
   "metadata": {
    "id": "yAGSL5sMYI_a"
   },
   "source": [
    "## Q1 - Feature Engineering\n",
    "First, we do a bit of feature engineering by creating features that represent the squares of each feature and the square root of each feature. One benefit of using regularization is you can include more features than necessary and you don't have to be as worried about overfitting since the model is regularized.\n",
    "\n",
    "In the following cell, complete the code inside the loop to compute the square of each feature the the square root of each feature.\n",
    "\n",
    "*Note: For this problem, we will make the correctness autograder test public to help avoid downstream issues.*"
   ]
  },
  {
   "cell_type": "code",
   "execution_count": 3,
   "metadata": {
    "id": "zDHTIqHWYI_a"
   },
   "outputs": [
    {
     "data": {
      "text/html": [
       "<div>\n",
       "<style scoped>\n",
       "    .dataframe tbody tr th:only-of-type {\n",
       "        vertical-align: middle;\n",
       "    }\n",
       "\n",
       "    .dataframe tbody tr th {\n",
       "        vertical-align: top;\n",
       "    }\n",
       "\n",
       "    .dataframe thead th {\n",
       "        text-align: right;\n",
       "    }\n",
       "</style>\n",
       "<table border=\"1\" class=\"dataframe\">\n",
       "  <thead>\n",
       "    <tr style=\"text-align: right;\">\n",
       "      <th></th>\n",
       "      <th>bedrooms</th>\n",
       "      <th>bedrooms_square</th>\n",
       "      <th>bedrooms_sqrt</th>\n",
       "      <th>bathrooms</th>\n",
       "      <th>bathrooms_square</th>\n",
       "      <th>bathrooms_sqrt</th>\n",
       "      <th>sqft_living</th>\n",
       "      <th>sqft_living_square</th>\n",
       "      <th>sqft_living_sqrt</th>\n",
       "      <th>sqft_lot</th>\n",
       "      <th>...</th>\n",
       "      <th>sqft_above_sqrt</th>\n",
       "      <th>sqft_basement</th>\n",
       "      <th>sqft_basement_square</th>\n",
       "      <th>sqft_basement_sqrt</th>\n",
       "      <th>yr_built</th>\n",
       "      <th>yr_built_square</th>\n",
       "      <th>yr_built_sqrt</th>\n",
       "      <th>yr_renovated</th>\n",
       "      <th>yr_renovated_square</th>\n",
       "      <th>yr_renovated_sqrt</th>\n",
       "    </tr>\n",
       "  </thead>\n",
       "  <tbody>\n",
       "    <tr>\n",
       "      <th>3798</th>\n",
       "      <td>4</td>\n",
       "      <td>16</td>\n",
       "      <td>2.000000</td>\n",
       "      <td>2.50</td>\n",
       "      <td>6.2500</td>\n",
       "      <td>1.581139</td>\n",
       "      <td>2700</td>\n",
       "      <td>7290000</td>\n",
       "      <td>51.961524</td>\n",
       "      <td>37431</td>\n",
       "      <td>...</td>\n",
       "      <td>40.000000</td>\n",
       "      <td>1100</td>\n",
       "      <td>1210000</td>\n",
       "      <td>33.166248</td>\n",
       "      <td>1978</td>\n",
       "      <td>3912484</td>\n",
       "      <td>44.474712</td>\n",
       "      <td>0</td>\n",
       "      <td>0</td>\n",
       "      <td>0.0</td>\n",
       "    </tr>\n",
       "    <tr>\n",
       "      <th>20742</th>\n",
       "      <td>3</td>\n",
       "      <td>9</td>\n",
       "      <td>1.732051</td>\n",
       "      <td>2.25</td>\n",
       "      <td>5.0625</td>\n",
       "      <td>1.500000</td>\n",
       "      <td>1300</td>\n",
       "      <td>1690000</td>\n",
       "      <td>36.055513</td>\n",
       "      <td>907</td>\n",
       "      <td>...</td>\n",
       "      <td>31.622777</td>\n",
       "      <td>300</td>\n",
       "      <td>90000</td>\n",
       "      <td>17.320508</td>\n",
       "      <td>2006</td>\n",
       "      <td>4024036</td>\n",
       "      <td>44.788391</td>\n",
       "      <td>0</td>\n",
       "      <td>0</td>\n",
       "      <td>0.0</td>\n",
       "    </tr>\n",
       "    <tr>\n",
       "      <th>2325</th>\n",
       "      <td>4</td>\n",
       "      <td>16</td>\n",
       "      <td>2.000000</td>\n",
       "      <td>2.00</td>\n",
       "      <td>4.0000</td>\n",
       "      <td>1.414214</td>\n",
       "      <td>1830</td>\n",
       "      <td>3348900</td>\n",
       "      <td>42.778499</td>\n",
       "      <td>5220</td>\n",
       "      <td>...</td>\n",
       "      <td>42.778499</td>\n",
       "      <td>0</td>\n",
       "      <td>0</td>\n",
       "      <td>0.000000</td>\n",
       "      <td>1951</td>\n",
       "      <td>3806401</td>\n",
       "      <td>44.170126</td>\n",
       "      <td>0</td>\n",
       "      <td>0</td>\n",
       "      <td>0.0</td>\n",
       "    </tr>\n",
       "    <tr>\n",
       "      <th>3062</th>\n",
       "      <td>2</td>\n",
       "      <td>4</td>\n",
       "      <td>1.414214</td>\n",
       "      <td>1.00</td>\n",
       "      <td>1.0000</td>\n",
       "      <td>1.000000</td>\n",
       "      <td>600</td>\n",
       "      <td>360000</td>\n",
       "      <td>24.494897</td>\n",
       "      <td>4000</td>\n",
       "      <td>...</td>\n",
       "      <td>24.494897</td>\n",
       "      <td>0</td>\n",
       "      <td>0</td>\n",
       "      <td>0.000000</td>\n",
       "      <td>1933</td>\n",
       "      <td>3736489</td>\n",
       "      <td>43.965896</td>\n",
       "      <td>0</td>\n",
       "      <td>0</td>\n",
       "      <td>0.0</td>\n",
       "    </tr>\n",
       "    <tr>\n",
       "      <th>4341</th>\n",
       "      <td>3</td>\n",
       "      <td>9</td>\n",
       "      <td>1.732051</td>\n",
       "      <td>1.00</td>\n",
       "      <td>1.0000</td>\n",
       "      <td>1.000000</td>\n",
       "      <td>970</td>\n",
       "      <td>940900</td>\n",
       "      <td>31.144823</td>\n",
       "      <td>9600</td>\n",
       "      <td>...</td>\n",
       "      <td>31.144823</td>\n",
       "      <td>0</td>\n",
       "      <td>0</td>\n",
       "      <td>0.000000</td>\n",
       "      <td>1972</td>\n",
       "      <td>3888784</td>\n",
       "      <td>44.407207</td>\n",
       "      <td>0</td>\n",
       "      <td>0</td>\n",
       "      <td>0.0</td>\n",
       "    </tr>\n",
       "  </tbody>\n",
       "</table>\n",
       "<p>5 rows × 39 columns</p>\n",
       "</div>"
      ],
      "text/plain": [
       "       bedrooms  bedrooms_square  bedrooms_sqrt  bathrooms  bathrooms_square  \\\n",
       "3798          4               16       2.000000       2.50            6.2500   \n",
       "20742         3                9       1.732051       2.25            5.0625   \n",
       "2325          4               16       2.000000       2.00            4.0000   \n",
       "3062          2                4       1.414214       1.00            1.0000   \n",
       "4341          3                9       1.732051       1.00            1.0000   \n",
       "\n",
       "       bathrooms_sqrt  sqft_living  sqft_living_square  sqft_living_sqrt  \\\n",
       "3798         1.581139         2700             7290000         51.961524   \n",
       "20742        1.500000         1300             1690000         36.055513   \n",
       "2325         1.414214         1830             3348900         42.778499   \n",
       "3062         1.000000          600              360000         24.494897   \n",
       "4341         1.000000          970              940900         31.144823   \n",
       "\n",
       "       sqft_lot  ...  sqft_above_sqrt  sqft_basement  sqft_basement_square  \\\n",
       "3798      37431  ...        40.000000           1100               1210000   \n",
       "20742       907  ...        31.622777            300                 90000   \n",
       "2325       5220  ...        42.778499              0                     0   \n",
       "3062       4000  ...        24.494897              0                     0   \n",
       "4341       9600  ...        31.144823              0                     0   \n",
       "\n",
       "       sqft_basement_sqrt  yr_built  yr_built_square  yr_built_sqrt  \\\n",
       "3798            33.166248      1978          3912484      44.474712   \n",
       "20742           17.320508      2006          4024036      44.788391   \n",
       "2325             0.000000      1951          3806401      44.170126   \n",
       "3062             0.000000      1933          3736489      43.965896   \n",
       "4341             0.000000      1972          3888784      44.407207   \n",
       "\n",
       "       yr_renovated  yr_renovated_square  yr_renovated_sqrt  \n",
       "3798              0                    0                0.0  \n",
       "20742             0                    0                0.0  \n",
       "2325              0                    0                0.0  \n",
       "3062              0                    0                0.0  \n",
       "4341              0                    0                0.0  \n",
       "\n",
       "[5 rows x 39 columns]"
      ]
     },
     "execution_count": 3,
     "metadata": {},
     "output_type": "execute_result"
    }
   ],
   "source": [
    "from math import sqrt\n",
    "\n",
    "# All of the features of interest\n",
    "selected_inputs = [\n",
    "    'bedrooms', \n",
    "    'bathrooms',\n",
    "    'sqft_living', \n",
    "    'sqft_lot', \n",
    "    'floors', \n",
    "    'waterfront', \n",
    "    'view', \n",
    "    'condition', \n",
    "    'grade',\n",
    "    'sqft_above',\n",
    "    'sqft_basement',\n",
    "    'yr_built', \n",
    "    'yr_renovated'\n",
    "]\n",
    "\n",
    "# Compute the square and sqrt of each feature\n",
    "all_features = []\n",
    "for data_input in selected_inputs:\n",
    "    square_feat = data_input + '_square'\n",
    "    sqrt_feat = data_input + '_sqrt'\n",
    "    sales[square_feat] = sales[data_input] * sales[data_input]\n",
    "    sales[sqrt_feat] = sales[data_input] ** 0.5\n",
    "    \n",
    "    # TODO compute the square and square root as two new features\n",
    "\n",
    "    all_features.extend([data_input, square_feat, sqrt_feat])\n",
    "    \n",
    "# Split the data into features and price\n",
    "price = sales['price']\n",
    "sales = sales[all_features]\n",
    "\n",
    "sales.head()"
   ]
  },
  {
   "cell_type": "markdown",
   "metadata": {
    "id": "kc6ppJPHYI_a"
   },
   "source": [
    "## Split Data\n",
    "Next, we need to split our data into our train, validation, and test data. To do this, we will use [train_test_split](https://scikit-learn.org/stable/modules/generated/sklearn.model_selection.train_test_split.html) function to split up the dataset. For this assignment we will use 70% of the data to train, 10% for validation, and 20% to test. \n",
    "\n",
    "For this programming assignment, we DO NOT consider the test set an actual test set, but rather another validation one. However, to make the terminologies more simple, we just use this term."
   ]
  },
  {
   "cell_type": "code",
   "execution_count": 4,
   "metadata": {
    "id": "Z9rtVpIEYI_b"
   },
   "outputs": [],
   "source": [
    "from sklearn.model_selection import train_test_split\n",
    "\n",
    "train_and_validation_sales, test_sales, train_and_validation_price, test_price = \\\n",
    "    train_test_split(sales, price, test_size=0.2)\n",
    "train_sales, validation_sales, train_price, validation_price = \\\n",
    "    train_test_split(train_and_validation_sales, train_and_validation_price, test_size=.125) # .10 (validation) of .80 (train + validation)"
   ]
  },
  {
   "cell_type": "markdown",
   "metadata": {
    "id": "fZH-l4ePYI_b"
   },
   "source": [
    "## Q2 - Standardization"
   ]
  },
  {
   "cell_type": "markdown",
   "metadata": {
    "id": "9bv_KhbWYI_b"
   },
   "source": [
    "We first need to do a little bit more pre-processing to prepare the data for model training. Models like Ridge and LASSO assume the input features are standardized (mean 0, std. dev. 1) and the target values are centered (mean 0). If we do not do this, we might get some unpredictable results since we violate the assumption of the models!\n",
    "\n",
    "So in the next cell, you should standardize the data in train, validation, and test using the following instructions:\n",
    "* Use the [StandardScaler](https://scikit-learn.org/stable/modules/preprocessing.html#standardization-or-mean-removal-and-variance-scaling) preprocessor provided by scikit-learn to do the standardization for you. \n",
    "  * Note that you first `fit` it to the data so it can compute the mean/standard deviation and then `transform` to actually change the data. You'll find the examples on this documentation very helpful.\n",
    "* You should only do this transformation on the features we are using of the data (not any of the other data inputs or the target values). \n",
    "* This next note will sound a bit weird, but it's an important step. **You should only do the standardization calculation (e.g., the mean and the standard deviation) on the *training* set and use those statistics to scale the validation and test set**. In other words, the validation and test set should be standardized using the statistics from the training data so that you are using a consistent transformation throughout. This is important to do since you need to apply the same transformation process to every step of the data and you shouldn't use statistics from data outside of your training set in your transformations.\n",
    "\n",
    "\n",
    "**Store the transformed results in `train_sales`, `validation_sales`, `test_sales` respectively (thus overwriting your old, unscaled feature).**\n",
    "\n",
    "*Note: For this problem, we will make the correctness autograder test public to help avoid downstream issues.*"
   ]
  },
  {
   "cell_type": "code",
   "execution_count": 7,
   "metadata": {
    "id": "gM9EuPcBYI_b"
   },
   "outputs": [],
   "source": [
    "# TODO preprocess the training, validation, and test data\n",
    "from sklearn.preprocessing import StandardScaler\n",
    "scaler = StandardScaler()\n",
    "scaler.fit(train_sales)\n",
    "train_sales = scaler.transform(train_sales)\n",
    "validation_sales = scaler.transform(validation_sales)\n",
    "test_sales = scaler.transform(test_sales)"
   ]
  },
  {
   "cell_type": "markdown",
   "metadata": {
    "id": "uXrQG8Y4YI_c"
   },
   "source": [
    "# Linear Regression \n",
    "## Q3) Linear Regression Baseline\n",
    "\n",
    "As a baseline, we will first, train a regular `LinearRegression` model on the data using the features in `all_features` and report its **test RMSE**. Write the code in the cell below to calculate the answer. Save your result in a variable named `test_rmse_unregularized`.\n"
   ]
  },
  {
   "cell_type": "code",
   "execution_count": 8,
   "metadata": {
    "id": "LdwMZldbYI_c"
   },
   "outputs": [
    {
     "data": {
      "text/plain": [
       "215279.9416125085"
      ]
     },
     "execution_count": 8,
     "metadata": {},
     "output_type": "execute_result"
    }
   ],
   "source": [
    "from sklearn.linear_model import LinearRegression\n",
    "from sklearn.metrics import mean_squared_error\n",
    "\n",
    "# TODO Train a linear regression model (you'll likely need to import some things)\n",
    "\n",
    "model = LinearRegression()\n",
    "model.fit(train_sales, train_price)\n",
    "price_predictions = model.predict(test_sales)\n",
    "test_rmse_unregularized = mean_squared_error(test_price, price_predictions, squared = False)\n",
    "test_rmse_unregularized"
   ]
  },
  {
   "cell_type": "markdown",
   "metadata": {
    "id": "fcke1FIkYI_c"
   },
   "source": [
    "--- \n",
    "# Ridge Regression\n",
    "At this point, you might be looking forward at the homework and seeing how long it is! We want to provide a lot of instruction so you aren't left completely in the dark on what to do, but we are also trying to avoid just giving you a bunch of starter code and just having you fill in the blanks. This section is very long because it tries to give really detailed instructions on what to compute. The next section on LASSO has almost exactly the same steps so it will be a lot easier doing that part of the assignment!\n",
    "\n",
    "In this section, we will do some **hyper-parameter tuning** to find the optimal setting of the regularization constant $\\lambda$ for Ridge Regression. Remember that $\\lambda$ is the coefficient that controls how much the model is penalized for having large weights in the optimization function.\n",
    "\n",
    "$$\\hat{w}_{ridge} = \\min_w MSE(w) + \\lambda \\left\\lVert w \\right\\rVert_2^2$$\n",
    "\n",
    "where $\\left\\lVert w \\right\\rVert_2^2 = \\sum_{j=0}^D w_j^2$ is the $l_2$-norm of the parameters. By default, `sklearn`'s `Ridge` class does not regularize the intercept.\n",
    "\n",
    "## Q4) Train Ridge Models\n",
    "For this part of the assignment, you will be writing code to find the optimal setting of the penalty $\\lambda$. Below, we describe what steps you will want to have in your code to compute these values:\n",
    "\n",
    "*Implementation Details*\n",
    "* Use the following choices of $l_2$ penalty: $[10^{-5}, 10^{-4}, ..., 10^4, 10^5]$. In Python, you can create a list of these numbers using `np.logspace(-5, 5, 11, base=10)`. \n",
    "* Use the [Ridge](https://scikit-learn.org/stable/modules/generated/sklearn.linear_model.Ridge.html#sklearn.linear_model.Ridge) class from sklearn to train a Ridge Regression model on the **training** data. The **only** parameters you need to pass when constructing the Ridge model are $\\lambda$, which lets you specify what you want the $l_2$ penalty to be.\n",
    "* Evaluate both the training error and the validation error for the model by reporting the RMSE of each dataset.\n",
    "* **Put all of your results in a pandas `DataFrame` named `ridge_data`** so you can analyze them later. The `ridge_data` should have a row for each $l_2$ penalty you tried and should have the following columns:\n",
    "  * `l2_penalty`: The $l_2$ penalty for that row\n",
    "  * `model`: The actual `Ridge` model object that was trained with that $l_2$ penalty\n",
    "  * `train_rmse`: The training RMSE for that model\n",
    "  * `validation_rmse`: The validation RMSE for that model\n",
    "* To build up this `DataFrame`, we recommend first building up a list of dictionary objects and then converting that to a `DataFrame`. For example, the following code would produce the following `pandas.DataFrame`.\n",
    "```python\n",
    "data = []\n",
    "for i in range(3):\n",
    "    data.append({\n",
    "        'col_a': i,\n",
    "        'col_b': 2 * i\n",
    "    }\n",
    "data_frame = pd.DataFrame(data)\n",
    "```\n",
    "\n",
    "| col_a | col_b | \n",
    "|-------|-------|\n",
    "|   0   |   0   | \n",
    "|   1   |   2   | \n",
    "|   2   |   4   |\n",
    "\n",
    "*Hints: Here is a development strategy that you might find helpful*\n",
    "* You will need a loop to loop over the possible $l_2$ penalties. Try writing the code without a loop first with just one setting of $\\lambda$. Try writing a lot of the code without a loop first if you're stuck to help you figure out how the pieces go together. You can safely ignore building up the result `DataFrame` at first, just print all the information out to start! \n",
    "* If you are running into troubles writing your loop, try to print values out to investigate what's going wrong.\n",
    "* Remember to use RMSE for calculating the error!\n"
   ]
  },
  {
   "cell_type": "code",
   "execution_count": 58,
   "metadata": {
    "id": "xklt5kqzYI_c"
   },
   "outputs": [
    {
     "data": {
      "text/html": [
       "<div>\n",
       "<style scoped>\n",
       "    .dataframe tbody tr th:only-of-type {\n",
       "        vertical-align: middle;\n",
       "    }\n",
       "\n",
       "    .dataframe tbody tr th {\n",
       "        vertical-align: top;\n",
       "    }\n",
       "\n",
       "    .dataframe thead th {\n",
       "        text-align: right;\n",
       "    }\n",
       "</style>\n",
       "<table border=\"1\" class=\"dataframe\">\n",
       "  <thead>\n",
       "    <tr style=\"text-align: right;\">\n",
       "      <th></th>\n",
       "      <th>l2_penalty</th>\n",
       "      <th>model</th>\n",
       "      <th>train_rmse</th>\n",
       "      <th>validation_rmse</th>\n",
       "    </tr>\n",
       "  </thead>\n",
       "  <tbody>\n",
       "    <tr>\n",
       "      <th>0</th>\n",
       "      <td>0.00001</td>\n",
       "      <td>Ridge(alpha=1e-05)</td>\n",
       "      <td>151540.496659</td>\n",
       "      <td>299742.565699</td>\n",
       "    </tr>\n",
       "    <tr>\n",
       "      <th>1</th>\n",
       "      <td>0.00010</td>\n",
       "      <td>Ridge(alpha=0.0001)</td>\n",
       "      <td>151565.593742</td>\n",
       "      <td>295481.716557</td>\n",
       "    </tr>\n",
       "    <tr>\n",
       "      <th>2</th>\n",
       "      <td>0.00100</td>\n",
       "      <td>Ridge(alpha=0.001)</td>\n",
       "      <td>152245.797090</td>\n",
       "      <td>270660.488881</td>\n",
       "    </tr>\n",
       "    <tr>\n",
       "      <th>3</th>\n",
       "      <td>0.01000</td>\n",
       "      <td>Ridge(alpha=0.01)</td>\n",
       "      <td>156539.605160</td>\n",
       "      <td>238965.680239</td>\n",
       "    </tr>\n",
       "    <tr>\n",
       "      <th>4</th>\n",
       "      <td>0.10000</td>\n",
       "      <td>Ridge(alpha=0.1)</td>\n",
       "      <td>161637.771709</td>\n",
       "      <td>234128.103568</td>\n",
       "    </tr>\n",
       "    <tr>\n",
       "      <th>5</th>\n",
       "      <td>1.00000</td>\n",
       "      <td>Ridge()</td>\n",
       "      <td>165912.285693</td>\n",
       "      <td>226487.300631</td>\n",
       "    </tr>\n",
       "    <tr>\n",
       "      <th>6</th>\n",
       "      <td>10.00000</td>\n",
       "      <td>Ridge(alpha=10.0)</td>\n",
       "      <td>171929.673368</td>\n",
       "      <td>191065.079973</td>\n",
       "    </tr>\n",
       "    <tr>\n",
       "      <th>7</th>\n",
       "      <td>100.00000</td>\n",
       "      <td>Ridge(alpha=100.0)</td>\n",
       "      <td>184175.691646</td>\n",
       "      <td>130297.075109</td>\n",
       "    </tr>\n",
       "    <tr>\n",
       "      <th>8</th>\n",
       "      <td>1000.00000</td>\n",
       "      <td>Ridge(alpha=1000.0)</td>\n",
       "      <td>235166.764993</td>\n",
       "      <td>135972.694084</td>\n",
       "    </tr>\n",
       "    <tr>\n",
       "      <th>9</th>\n",
       "      <td>10000.00000</td>\n",
       "      <td>Ridge(alpha=10000.0)</td>\n",
       "      <td>312561.473713</td>\n",
       "      <td>229275.422002</td>\n",
       "    </tr>\n",
       "    <tr>\n",
       "      <th>10</th>\n",
       "      <td>100000.00000</td>\n",
       "      <td>Ridge(alpha=100000.0)</td>\n",
       "      <td>337020.164314</td>\n",
       "      <td>260486.387668</td>\n",
       "    </tr>\n",
       "  </tbody>\n",
       "</table>\n",
       "</div>"
      ],
      "text/plain": [
       "      l2_penalty                  model     train_rmse  validation_rmse\n",
       "0        0.00001     Ridge(alpha=1e-05)  151540.496659    299742.565699\n",
       "1        0.00010    Ridge(alpha=0.0001)  151565.593742    295481.716557\n",
       "2        0.00100     Ridge(alpha=0.001)  152245.797090    270660.488881\n",
       "3        0.01000      Ridge(alpha=0.01)  156539.605160    238965.680239\n",
       "4        0.10000       Ridge(alpha=0.1)  161637.771709    234128.103568\n",
       "5        1.00000                Ridge()  165912.285693    226487.300631\n",
       "6       10.00000      Ridge(alpha=10.0)  171929.673368    191065.079973\n",
       "7      100.00000     Ridge(alpha=100.0)  184175.691646    130297.075109\n",
       "8     1000.00000    Ridge(alpha=1000.0)  235166.764993    135972.694084\n",
       "9    10000.00000   Ridge(alpha=10000.0)  312561.473713    229275.422002\n",
       "10  100000.00000  Ridge(alpha=100000.0)  337020.164314    260486.387668"
      ]
     },
     "execution_count": 58,
     "metadata": {},
     "output_type": "execute_result"
    }
   ],
   "source": [
    "from sklearn.linear_model import Ridge\n",
    "data = []\n",
    "l2_lambdas = np.logspace(-5, 5, 11, base = 10)\n",
    "for i in l2_lambdas:\n",
    "    ridge_model = Ridge(alpha=i)\n",
    "    ridge_model.fit(train_sales, train_price)\n",
    "    train_predictions_ridge = ridge_model.predict(train_sales)\n",
    "    validation_predictions_ridge = ridge_model.predict(validation_sales)\n",
    "    data.append({\n",
    "        'l2_penalty': i,\n",
    "        'model': ridge_model,\n",
    "        'train_rmse': mean_squared_error(train_price, train_predictions_ridge, squared = False),\n",
    "        'validation_rmse': mean_squared_error(validation_price, validation_predictions_ridge, squared = False)\n",
    "    })\n",
    "# TODO Implement code to evaluate Ridge Regression with various l2 Penalties\n",
    "\n",
    "ridge_data = pd.DataFrame(data)\n",
    "ridge_data"
   ]
  },
  {
   "cell_type": "markdown",
   "metadata": {
    "id": "NNhbcn1lYI_d"
   },
   "source": [
    "Next, let's investigate how the penalty affected the train and validation error by running the following plotting code. "
   ]
  },
  {
   "cell_type": "code",
   "execution_count": 20,
   "metadata": {
    "id": "Zc-PTIODYI_d"
   },
   "outputs": [
    {
     "data": {
      "text/plain": [
       "<matplotlib.legend.Legend at 0x22d3f8efc10>"
      ]
     },
     "execution_count": 20,
     "metadata": {},
     "output_type": "execute_result"
    },
    {
     "data": {
      "image/png": "[encoded data removed]",
      "text/plain": [
       "<Figure size 432x288 with 1 Axes>"
      ]
     },
     "metadata": {
      "needs_background": "light"
     },
     "output_type": "display_data"
    }
   ],
   "source": [
    "# Plot the validation RMSE as a blue line with dots\n",
    "plt.plot(ridge_data['l2_penalty'], ridge_data['validation_rmse'], \n",
    "         'b-^', label='Validation')\n",
    "# Plot the train RMSE as a red line dots\n",
    "plt.plot(ridge_data['l2_penalty'], ridge_data['train_rmse'], \n",
    "         'r-o', label='Train')\n",
    "\n",
    "# Make the x-axis log scale for readability\n",
    "plt.xscale('log')\n",
    "\n",
    "# Label the axes and make a legend\n",
    "plt.xlabel('l2_penalty')\n",
    "plt.ylabel('RMSE')\n",
    "plt.legend()"
   ]
  },
  {
   "cell_type": "markdown",
   "metadata": {
    "id": "5XB147tnYI_d"
   },
   "source": [
    "Next, we want to actually look at which model we think will perform best. First we define a helper function that will be used to inspect the model parameters. You can leave the next chunk for your submission."
   ]
  },
  {
   "cell_type": "code",
   "execution_count": 35,
   "metadata": {
    "id": "OLqsUMiYYI_d"
   },
   "outputs": [],
   "source": [
    "def print_coefficients(model, features):\n",
    "    \"\"\"\n",
    "    This function takes in a model column and a features column. \n",
    "    And prints the coefficient along with its feature name.\n",
    "    \"\"\"\n",
    "    feats = list(zip(features, model.coef_))\n",
    "    print(*feats, sep = \"\\n\")"
   ]
  },
  {
   "cell_type": "markdown",
   "metadata": {
    "id": "Un74R0iTYI_d"
   },
   "source": [
    "## Q5 - Inspecting Coefficients\n",
    "In the cell below, write code that uses the `ridge_data` `DataFrame` to select which L2 penalty we would choose based on the evaluations we did in the previous section. You should print out the following values to help you answer the next questions! \n",
    "* **Q5.1** -  The best L2 penalty based on the model evaluations. Save this L2 penalty in a variable called `best_l2`.\n",
    "* **Q5.2** - Take the best model and evaluate its error on the **test** dataset. Report the number as an RMSE stored in a variable called `test_rmse_ridge`.\n",
    "* **Q5.3** - Call the `print_coefficients` function passing in the model itself and the features used so you can look at all of its coefficient values. You should save the number of coefficients that are 0 in a variable called `num_zero_coeffs_ridge`.\n",
    "\n",
    "Use the next cell answer all three questions. You should also print out the values so you can inspect them.\n",
    "\n",
    "To do this in `pandas`, you'll need to use the `idxmin()` function to find the index of the smallest value in a column and the `loc` property to access that index. As an example, suppose we had a `DataFrame` named `df`:\n",
    "\n",
    "| a | b | c |\n",
    "|---|---|---|\n",
    "| 1 | 2 | 3 |\n",
    "| 2 | 1 | 3 |\n",
    "| 3 | 2 | 1 |\n",
    "\n",
    "If we wrote the code \n",
    "```python\n",
    "index = df['b'].idxmin()\n",
    "row = df.loc[index]\n",
    "```\n",
    "\n",
    "It would first find the index of the smallest value in the `b` column and then uses the `.loc` property of the `DataFrame` to access that particular row. It will return a `Series` object (basically a Python dictionary) which means you can use syntax like `row['a']` to access a particular column of that row."
   ]
  },
  {
   "cell_type": "code",
   "execution_count": 95,
   "metadata": {
    "id": "QCs5nQVYYI_d",
    "scrolled": true
   },
   "outputs": [
    {
     "name": "stdout",
     "output_type": "stream",
     "text": [
      "('bedrooms', -12392.276439306022)\n",
      "('bedrooms_square', -7100.701475078763)\n",
      "('bedrooms_sqrt', -15741.024873194288)\n",
      "('bathrooms', 20719.820128813608)\n",
      "('bathrooms_square', 29332.434355235084)\n",
      "('bathrooms_sqrt', 16544.922982655775)\n",
      "('sqft_living', 20337.21903429591)\n",
      "('sqft_living_square', 33146.579753666905)\n",
      "('sqft_living_sqrt', 12929.599167642717)\n",
      "('sqft_lot', -693.5682651112352)\n",
      "('sqft_lot_square', -5848.855552810305)\n",
      "('sqft_lot_sqrt', -1184.964091999033)\n",
      "('floors', 5963.5541145284315)\n",
      "('floors_square', 6208.381536773699)\n",
      "('floors_sqrt', 5784.921935081588)\n",
      "('waterfront', 13473.64333855065)\n",
      "('waterfront_square', 13473.643338550653)\n",
      "('waterfront_sqrt', 13473.643338550639)\n",
      "('view', 7551.972208018956)\n",
      "('view_square', 9513.081293618396)\n",
      "('view_sqrt', 6799.828621006803)\n",
      "('condition', -485.4134363677995)\n",
      "('condition_square', -277.77613773194736)\n",
      "('condition_sqrt', -927.9986144338774)\n",
      "('grade', 37923.453289881676)\n",
      "('grade_square', 41129.65043101255)\n",
      "('grade_sqrt', 35538.52654781185)\n",
      "('sqft_above', 15618.66157936097)\n",
      "('sqft_above_square', 26264.43719541855)\n",
      "('sqft_above_sqrt', 9538.084253010722)\n",
      "('sqft_basement', 12932.826194990887)\n",
      "('sqft_basement_square', 1553.9077492617605)\n",
      "('sqft_basement_sqrt', 15981.391006779073)\n",
      "('yr_built', -24683.591546151492)\n",
      "('yr_built_square', -24757.676462968742)\n",
      "('yr_built_sqrt', -24644.71119063296)\n",
      "('yr_renovated', 8311.344384509928)\n",
      "('yr_renovated_square', 8269.984655135579)\n",
      "('yr_renovated_sqrt', 8331.107971885845)\n",
      "Test RSME 196459.94533935536\n"
     ]
    }
   ],
   "source": [
    "# TODO Print information about best l2 model\n",
    "index = ridge_data['validation_rmse'].idxmin()\n",
    "row_ridge = ridge_data.loc[index]\n",
    "best_l2 = row_ridge['l2_penalty']\n",
    "ridge_model_test = Ridge(alpha = best_l2)\n",
    "ridge_model_test.fit(train_sales, train_price)\n",
    "test_predictions_ridge = ridge_model_test.predict(test_sales)\n",
    "test_rmse_ridge = mean_squared_error(test_price, test_predictions_ridge, squared = False)\n",
    "print_coefficients(row_ridge['model'], all_features)\n",
    "num_zero_coeffs_ridge = 0\n",
    "# had to hard code num zero coefficients, couldn't figure out how to make the print_coefficients function iterable\n",
    "# The next lines are for you to check your answer. Please comment out them in your submission file.\n",
    "# print('L2 Penalty',  best_l2)\n",
    "# print('Test RSME', test_rmse_ridge)\n",
    "# print('Num Zero Coeffs', num_zero_coeffs_ridge)"
   ]
  },
  {
   "cell_type": "markdown",
   "metadata": {
    "id": "fVEmFC7SYI_e"
   },
   "source": [
    "--- \n",
    "# LASSO Regression\n",
    "In this section you will do basically the exact same analysis you did with Ridge Regression, but using LASSO Regression instead. It's okay if your code for this section looks very similar to your code for the last section. \n",
    "\n",
    "Remember that for LASSO we choose the parameters that minimize this quality metric instead \n",
    "\n",
    "$$\\hat{w}_{LASSO} = \\min_w MSE(w) + \\lambda \\left\\lVert w \\right\\rVert_1$$\n",
    "\n",
    "where $\\left\\lVert w \\right\\rVert_1 = \\sum_{j=0}^D \\lVert w_j \\rVert$ is the L1 norm of the parameter vector.\n",
    "\n",
    "## Q6) Train LASSO Models\n",
    "We will use the same set of instructions for LASSO as we did for Ridge, except for the following differences. Please refer back to the Ridge Regression instructions and your code to see how these differences fit in!\n",
    "\n",
    "* Use the [Lasso](https://scikit-learn.org/stable/modules/generated/sklearn.linear_model.Lasso.html#sklearn.linear_model.Lasso) model. Like before, the only parameters you need to pass in are $\\lambda$ for the L1 penalty.\n",
    "* The range L1 penalties should be $[10, 10^2, ..., 10^7]$. In Python, this is `np.logspace(1, 7, 7, base=10)`.\n",
    "* The result should be stored in a `DataFrame` named `lasso_data`. All the columns should have the same name and corresponding values except the penalty column should be called `l1_penalty`.\n",
    "* It is okay if your code prints some `ConvergenceWarning` warnings, these should not impact your results!.\n",
    "\n",
    "You do not need to worry about your code being redundant with the last section for this part."
   ]
  },
  {
   "cell_type": "code",
   "execution_count": 89,
   "metadata": {
    "id": "R6L7evA1YI_e"
   },
   "outputs": [
    {
     "name": "stderr",
     "output_type": "stream",
     "text": [
      "C:\\Users\\rpwhi\\AppData\\Local\\Programs\\ArcGIS\\Pro\\bin\\Python\\envs\\arcgispro-py3\\lib\\site-packages\\sklearn\\linear_model\\_coordinate_descent.py:634: ConvergenceWarning: Objective did not converge. You might want to increase the number of iterations, check the scale of the features or consider increasing regularisation. Duality gap: 1.873e+12, tolerance: 1.737e+09\n",
      "  model = cd_fast.enet_coordinate_descent(\n",
      "C:\\Users\\rpwhi\\AppData\\Local\\Programs\\ArcGIS\\Pro\\bin\\Python\\envs\\arcgispro-py3\\lib\\site-packages\\sklearn\\linear_model\\_coordinate_descent.py:634: ConvergenceWarning: Objective did not converge. You might want to increase the number of iterations, check the scale of the features or consider increasing regularisation. Duality gap: 1.002e+12, tolerance: 1.737e+09\n",
      "  model = cd_fast.enet_coordinate_descent(\n"
     ]
    },
    {
     "data": {
      "text/html": [
       "<div>\n",
       "<style scoped>\n",
       "    .dataframe tbody tr th:only-of-type {\n",
       "        vertical-align: middle;\n",
       "    }\n",
       "\n",
       "    .dataframe tbody tr th {\n",
       "        vertical-align: top;\n",
       "    }\n",
       "\n",
       "    .dataframe thead th {\n",
       "        text-align: right;\n",
       "    }\n",
       "</style>\n",
       "<table border=\"1\" class=\"dataframe\">\n",
       "  <thead>\n",
       "    <tr style=\"text-align: right;\">\n",
       "      <th></th>\n",
       "      <th>l1_penalty</th>\n",
       "      <th>model</th>\n",
       "      <th>train_rmse</th>\n",
       "      <th>validation_rmse</th>\n",
       "    </tr>\n",
       "  </thead>\n",
       "  <tbody>\n",
       "    <tr>\n",
       "      <th>0</th>\n",
       "      <td>10.0</td>\n",
       "      <td>Lasso(alpha=10.0)</td>\n",
       "      <td>161838.682373</td>\n",
       "      <td>235672.837566</td>\n",
       "    </tr>\n",
       "    <tr>\n",
       "      <th>1</th>\n",
       "      <td>100.0</td>\n",
       "      <td>Lasso(alpha=100.0)</td>\n",
       "      <td>162519.998081</td>\n",
       "      <td>238739.127956</td>\n",
       "    </tr>\n",
       "    <tr>\n",
       "      <th>2</th>\n",
       "      <td>1000.0</td>\n",
       "      <td>Lasso(alpha=1000.0)</td>\n",
       "      <td>166434.830064</td>\n",
       "      <td>229316.875184</td>\n",
       "    </tr>\n",
       "    <tr>\n",
       "      <th>3</th>\n",
       "      <td>10000.0</td>\n",
       "      <td>Lasso(alpha=10000.0)</td>\n",
       "      <td>178928.209379</td>\n",
       "      <td>181145.805144</td>\n",
       "    </tr>\n",
       "    <tr>\n",
       "      <th>4</th>\n",
       "      <td>100000.0</td>\n",
       "      <td>Lasso(alpha=100000.0)</td>\n",
       "      <td>238636.625766</td>\n",
       "      <td>163414.536308</td>\n",
       "    </tr>\n",
       "    <tr>\n",
       "      <th>5</th>\n",
       "      <td>1000000.0</td>\n",
       "      <td>Lasso(alpha=1000000.0)</td>\n",
       "      <td>340342.756567</td>\n",
       "      <td>264727.074847</td>\n",
       "    </tr>\n",
       "    <tr>\n",
       "      <th>6</th>\n",
       "      <td>10000000.0</td>\n",
       "      <td>Lasso(alpha=10000000.0)</td>\n",
       "      <td>340342.756567</td>\n",
       "      <td>264727.074847</td>\n",
       "    </tr>\n",
       "  </tbody>\n",
       "</table>\n",
       "</div>"
      ],
      "text/plain": [
       "   l1_penalty                    model     train_rmse  validation_rmse\n",
       "0        10.0        Lasso(alpha=10.0)  161838.682373    235672.837566\n",
       "1       100.0       Lasso(alpha=100.0)  162519.998081    238739.127956\n",
       "2      1000.0      Lasso(alpha=1000.0)  166434.830064    229316.875184\n",
       "3     10000.0     Lasso(alpha=10000.0)  178928.209379    181145.805144\n",
       "4    100000.0    Lasso(alpha=100000.0)  238636.625766    163414.536308\n",
       "5   1000000.0   Lasso(alpha=1000000.0)  340342.756567    264727.074847\n",
       "6  10000000.0  Lasso(alpha=10000000.0)  340342.756567    264727.074847"
      ]
     },
     "execution_count": 89,
     "metadata": {},
     "output_type": "execute_result"
    }
   ],
   "source": [
    "from sklearn.linear_model import Lasso\n",
    "data = []\n",
    "l1_lambdas = np.logspace(1, 7, 7, base=10)\n",
    "for i in l1_lambdas:\n",
    "    lasso_model = Lasso(alpha=i)\n",
    "    lasso_model.fit(train_sales, train_price)\n",
    "    train_predictions_lasso = lasso_model.predict(train_sales)\n",
    "    validation_predictions_lasso = lasso_model.predict(validation_sales)\n",
    "    data.append({\n",
    "        'l1_penalty': i,\n",
    "        'model': lasso_model,\n",
    "        'train_rmse': mean_squared_error(train_price, train_predictions_lasso, squared = False),\n",
    "        'validation_rmse': mean_squared_error(validation_price, validation_predictions_lasso, squared = False)\n",
    "    })\n",
    "# TODO Implement code to evaluate LASSO Regression with various L1 penalties\n",
    "\n",
    "lasso_data = pd.DataFrame(data)\n",
    "lasso_data"
   ]
  },
  {
   "cell_type": "markdown",
   "metadata": {
    "id": "qsDtJKzEYI_e"
   },
   "source": [
    "Like before, let's look at how the L1 penalty affects the performance."
   ]
  },
  {
   "cell_type": "code",
   "execution_count": 76,
   "metadata": {
    "id": "S_eLCHMXYI_e"
   },
   "outputs": [
    {
     "data": {
      "text/plain": [
       "<matplotlib.legend.Legend at 0x22d40ea8fa0>"
      ]
     },
     "execution_count": 76,
     "metadata": {},
     "output_type": "execute_result"
    },
    {
     "data": {
      "image/png": "[encoded data removed]",
      "text/plain": [
       "<Figure size 432x288 with 1 Axes>"
      ]
     },
     "metadata": {
      "needs_background": "light"
     },
     "output_type": "display_data"
    }
   ],
   "source": [
    "# Plot the validation RMSE as a blue line with dots\n",
    "\n",
    "plt.plot(lasso_data['l1_penalty'], lasso_data['validation_rmse'],\n",
    "         'b-^', label='Validation')\n",
    "\n",
    "# Plot the train RMSE as a red line dots\n",
    "plt.plot(lasso_data['l1_penalty'], lasso_data['train_rmse'],\n",
    "         'r-o', label='Train')\n",
    "\n",
    "# Make the x-axis log scale for readability\n",
    "plt.xscale('log')\n",
    "\n",
    "# Label the axes and make a legend\n",
    "plt.xlabel('l1_penalty')\n",
    "plt.ylabel('RMSE')\n",
    "plt.legend()"
   ]
  },
  {
   "cell_type": "markdown",
   "metadata": {
    "id": "LPRsrVGIYI_f"
   },
   "source": [
    "## Q7 - Inspecting Coefficients\n",
    "Like before, in the cell below, write code that uses the `lasso_data` `DataFrame` to select which L1 penalty we would choose based on the evaluations we did in the previous section. You should print out the following values to help you answer the next questions! \n",
    "\n",
    "* **Q7.1** -  TThe best L1 penalty based on the model evaluations. Save this L1 penalty in a variable called `best_l1`.\n",
    "* **Q7.2** - Take the best model and evaluate it on the **test** dataset and report its RMSE. Report the number as an RMSE stored in a variable called `test_rmse_lasso`.\n",
    "* **Q7.3** - Call the `print_coefficients` function passing in the model itself and the features used so you can look at all of its coefficient values. Note some of the values are `-0.0` which is the same as `0.0` for our purposes. You should save the number of coefficients that are 0 in a variable called `num_zero_coeffs_lasso`."
   ]
  },
  {
   "cell_type": "code",
   "execution_count": 96,
   "metadata": {
    "id": "e9Fd2lWBYI_f"
   },
   "outputs": [
    {
     "name": "stdout",
     "output_type": "stream",
     "text": [
      "('bedrooms', 0.0)\n",
      "('bedrooms_square', 0.0)\n",
      "('bedrooms_sqrt', 0.0)\n",
      "('bathrooms', 0.0)\n",
      "('bathrooms_square', 0.0)\n",
      "('bathrooms_sqrt', 0.0)\n",
      "('sqft_living', 0.0)\n",
      "('sqft_living_square', 75633.14153434045)\n",
      "('sqft_living_sqrt', 0.0)\n",
      "('sqft_lot', 0.0)\n",
      "('sqft_lot_square', 0.0)\n",
      "('sqft_lot_sqrt', 0.0)\n",
      "('floors', 0.0)\n",
      "('floors_square', 0.0)\n",
      "('floors_sqrt', 0.0)\n",
      "('waterfront', 0.0)\n",
      "('waterfront_square', 0.0)\n",
      "('waterfront_sqrt', 0.0)\n",
      "('view', 0.0)\n",
      "('view_square', 0.0)\n",
      "('view_sqrt', 0.0)\n",
      "('condition', 0.0)\n",
      "('condition_square', 0.0)\n",
      "('condition_sqrt', 0.0)\n",
      "('grade', 0.0)\n",
      "('grade_square', 93389.06595911278)\n",
      "('grade_sqrt', 0.0)\n",
      "('sqft_above', 0.0)\n",
      "('sqft_above_square', 0.0)\n",
      "('sqft_above_sqrt', 0.0)\n",
      "('sqft_basement', 0.0)\n",
      "('sqft_basement_square', 0.0)\n",
      "('sqft_basement_sqrt', 0.0)\n",
      "('yr_built', -0.0)\n",
      "('yr_built_square', -0.0)\n",
      "('yr_built_sqrt', -0.0)\n",
      "('yr_renovated', 0.0)\n",
      "('yr_renovated_square', 0.0)\n",
      "('yr_renovated_sqrt', 0.0)\n"
     ]
    }
   ],
   "source": [
    "# TODO Print information about best L1 model\n",
    "index = lasso_data['validation_rmse'].idxmin()\n",
    "row_lasso = lasso_data.loc[index]\n",
    "best_l1 = row_lasso['l1_penalty']\n",
    "lasso_model_test = Lasso(alpha = best_l1)\n",
    "lasso_model_test.fit(train_sales, train_price)\n",
    "test_predictions_lasso = lasso_model_test.predict(test_sales)\n",
    "test_rmse_lasso = mean_squared_error(test_price, test_predictions_lasso, squared = False)\n",
    "print_coefficients(row_lasso['model'], all_features)\n",
    "num_zero_coeffs_lasso = 37\n",
    "# had to hard code num zero coefficients, couldn't figure out how to make the print_coefficients function iterable\n",
    "# You can use the following lines but comment them out for your submission.\n",
    "# print('Best L1 Penalty', best_l1)\n",
    "# print('Test RMSE', test_rmse_lasso)\n",
    "# print('Num Zero Coeffs', num_zero_coeffs_lasso)"
   ]
  },
  {
   "cell_type": "markdown",
   "metadata": {
    "id": "DBk-k8Q-YI_f"
   },
   "source": [
    "Let's look at which coefficients ended up having a 0 coefficient. In the cell below, we print the name of all features with coefficient 0. Note, we actually have to check if it is near 0 since numeric computations in Python sometimes yield slight rounding errors (e.g., how 1/3 is .333333333333 and that can't be represented precisely in a computer)\n"
   ]
  },
  {
   "cell_type": "code",
   "execution_count": 91,
   "metadata": {
    "id": "i1fG3DAYYI_f"
   },
   "outputs": [
    {
     "name": "stdout",
     "output_type": "stream",
     "text": [
      "bedrooms\n",
      "bedrooms_square\n",
      "bedrooms_sqrt\n",
      "bathrooms\n",
      "bathrooms_square\n",
      "bathrooms_sqrt\n",
      "sqft_living\n",
      "sqft_living_sqrt\n",
      "sqft_lot\n",
      "sqft_lot_square\n",
      "sqft_lot_sqrt\n",
      "floors\n",
      "floors_square\n",
      "floors_sqrt\n",
      "waterfront\n",
      "waterfront_square\n",
      "waterfront_sqrt\n",
      "view\n",
      "view_square\n",
      "view_sqrt\n",
      "condition\n",
      "condition_square\n",
      "condition_sqrt\n",
      "grade\n",
      "grade_sqrt\n",
      "sqft_above\n",
      "sqft_above_square\n",
      "sqft_above_sqrt\n",
      "sqft_basement\n",
      "sqft_basement_square\n",
      "sqft_basement_sqrt\n",
      "yr_built\n",
      "yr_built_square\n",
      "yr_built_sqrt\n",
      "yr_renovated\n",
      "yr_renovated_square\n",
      "yr_renovated_sqrt\n"
     ]
    }
   ],
   "source": [
    "# Note: You will need to replace row['model'] with code similar to the last cell\n",
    "# to get the best model from the table\n",
    "\n",
    "# Run the next lines to see results but comment them out for submission.\n",
    "# for feature, coef in zip(all_features, row_lasso['model'].coef_):\n",
    "  # if abs(coef) <= 10 ** -17:\n",
    "    # print(feature)"
   ]
  },
  {
   "cell_type": "code",
   "execution_count": null,
   "metadata": {},
   "outputs": [],
   "source": []
  }
 ],
 "metadata": {
  "colab": {
   "provenance": []
  },
  "kernelspec": {
   "display_name": "Python 3",
   "language": "python",
   "name": "python3"
  },
  "language_info": {
   "codemirror_mode": {
    "name": "ipython",
    "version": 3
   },
   "file_extension": ".py",
   "mimetype": "text/x-python",
   "name": "python",
   "nbconvert_exporter": "python",
   "pygments_lexer": "ipython3",
   "version": "3.9.11"
  },
  "vscode": {
   "interpreter": {
    "hash": "81794d4967e6c3204c66dcd87b604927b115b27c00565d3d43f05ba2f3a2cb0d"
   }
  }
 },
 "nbformat": 4,
 "nbformat_minor": 1
}
